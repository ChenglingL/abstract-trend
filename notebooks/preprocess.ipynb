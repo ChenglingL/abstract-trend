{
 "cells": [
  {
   "cell_type": "code",
   "execution_count": 1,
   "id": "abc378dc",
   "metadata": {},
   "outputs": [],
   "source": [
    "import pandas as pd, re\n",
    "from pathlib import Path\n",
    "from sklearn.feature_extraction.text import ENGLISH_STOP_WORDS\n",
    "import pyarrow as pa\n",
    "import pyarrow.parquet as pq"
   ]
  },
  {
   "cell_type": "code",
   "execution_count": null,
   "id": "1f96230b",
   "metadata": {},
   "outputs": [
    {
     "name": "stdout",
     "output_type": "stream",
     "text": [
      "Saved: ../data/processed/physics_clean.parquet rows: 480862\n"
     ]
    }
   ],
   "source": [
    "## clean the raw abstracts\n",
    "inp = Path(\"../data/raw/physics_condmat_2005_2025.csv\")\n",
    "out = Path(\"../data/processed/physics_clean.parquet\")\n",
    "df = pd.read_csv(inp)\n",
    "\n",
    "def clean(t: str) -> str:\n",
    "    t = str(t).lower()\n",
    "    t = re.sub(r\"http\\S+|www\\.\\S+\", \" \", t) ## remove links\n",
    "    toks = re.findall(r\"[a-z]+\", t)\n",
    "    toks = [w for w in toks if w not in ENGLISH_STOP_WORDS and len(w) > 2] ##remove stop words\n",
    "    return \" \".join(toks)\n",
    "\n",
    "df[\"year\"] = pd.to_datetime(df[\"published\"], errors=\"coerce\").dt.year\n",
    "df = df[df[\"year\"].between(2005, 2025)]\n",
    "df[\"abstract_clean\"] = df[\"abstract\"].map(clean)\n",
    "df = df.dropna(subset=[\"abstract\", \"abstract_clean\"])\n",
    "out.parent.mkdir(parents=True, exist_ok=True)\n",
    "\n",
    "table = pa.Table.from_pandas(df, preserve_index=False, safe=False)\n",
    "pq.write_table(table, out)\n",
    "print(\"Saved:\", out, \"rows:\", len(df))"
   ]
  }
 ],
 "metadata": {
  "kernelspec": {
   "display_name": "GNN",
   "language": "python",
   "name": "python3"
  },
  "language_info": {
   "codemirror_mode": {
    "name": "ipython",
    "version": 3
   },
   "file_extension": ".py",
   "mimetype": "text/x-python",
   "name": "python",
   "nbconvert_exporter": "python",
   "pygments_lexer": "ipython3",
   "version": "3.9.21"
  }
 },
 "nbformat": 4,
 "nbformat_minor": 5
}
